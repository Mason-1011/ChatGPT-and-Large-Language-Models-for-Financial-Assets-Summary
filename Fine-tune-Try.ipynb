{
 "cells": [
  {
   "metadata": {
    "ExecuteTime": {
     "end_time": "2024-07-08T16:11:12.425188Z",
     "start_time": "2024-07-08T16:11:12.421968Z"
    }
   },
   "cell_type": "code",
   "source": [
    "import os\n",
    "import torch\n",
    "from torch.utils.data import Dataset, DataLoader\n",
    "from transformers import LongformerTokenizer, LongformerForSequenceClassification\n",
    "from torch.optim import AdamW\n",
    "import torch.nn as nn\n",
    "from sklearn.preprocessing import LabelEncoder\n",
    "from sklearn.metrics import classification_report"
   ],
   "id": "a780b1cea7a4f33e",
   "outputs": [],
   "execution_count": 8
  },
  {
   "metadata": {
    "ExecuteTime": {
     "end_time": "2024-07-08T16:11:16.642173Z",
     "start_time": "2024-07-08T16:11:12.427122Z"
    }
   },
   "cell_type": "code",
   "source": [
    "# 文件名列表和文件夹路径\n",
    "file_names = ['TPL.txt', 'OKE.txt', 'CHK.txt', 'BKR.txt']\n",
    "file_folder = 'experiment'\n",
    "texts = []\n",
    "labels = ['Negligible', 'Medium', 'High', 'Low']  # 示例标签\n",
    "\n",
    "# 读取文件内容\n",
    "for file_name in file_names:\n",
    "    file_path = os.path.join(file_folder, file_name)\n",
    "    with open(file_path, 'r', encoding='utf-8') as file:\n",
    "        content = file.read()\n",
    "        texts.append(content)\n",
    "\n",
    "# 初始化 Longformer tokenizer 和分类模型\n",
    "tokenizer = LongformerTokenizer.from_pretrained('allenai/longformer-base-4096')\n",
    "model = LongformerForSequenceClassification.from_pretrained('allenai/longformer-base-4096', num_labels=4)"
   ],
   "id": "188eee2d872d37b1",
   "outputs": [
    {
     "name": "stderr",
     "output_type": "stream",
     "text": [
      "Some weights of the model checkpoint at allenai/longformer-base-4096 were not used when initializing LongformerForSequenceClassification: ['lm_head.layer_norm.weight', 'lm_head.dense.bias', 'lm_head.bias', 'lm_head.dense.weight', 'lm_head.layer_norm.bias', 'lm_head.decoder.weight']\n",
      "- This IS expected if you are initializing LongformerForSequenceClassification from the checkpoint of a model trained on another task or with another architecture (e.g. initializing a BertForSequenceClassification model from a BertForPreTraining model).\n",
      "- This IS NOT expected if you are initializing LongformerForSequenceClassification from the checkpoint of a model that you expect to be exactly identical (initializing a BertForSequenceClassification model from a BertForSequenceClassification model).\n",
      "Some weights of LongformerForSequenceClassification were not initialized from the model checkpoint at allenai/longformer-base-4096 and are newly initialized: ['classifier.dense.bias', 'classifier.dense.weight', 'classifier.out_proj.bias', 'classifier.out_proj.weight']\n",
      "You should probably TRAIN this model on a down-stream task to be able to use it for predictions and inference.\n"
     ]
    }
   ],
   "execution_count": 9
  },
  {
   "metadata": {
    "ExecuteTime": {
     "end_time": "2024-07-08T16:47:19.070846Z",
     "start_time": "2024-07-08T16:11:16.643271Z"
    }
   },
   "cell_type": "code",
   "source": [
    "# 自定义数据集类\n",
    "class TextDataset(Dataset):\n",
    "    def __init__(self, texts, labels, tokenizer, max_length=4096):\n",
    "        self.texts = texts\n",
    "        self.labels = labels\n",
    "        self.tokenizer = tokenizer\n",
    "        self.max_length = max_length\n",
    "\n",
    "    def __len__(self):\n",
    "        return len(self.texts)\n",
    "\n",
    "    def __getitem__(self, idx):\n",
    "        text = self.texts[idx]\n",
    "        label = self.labels[idx]\n",
    "        encoded_input = self.tokenizer(text, return_tensors='pt', truncation=True, padding='max_length', max_length=self.max_length)\n",
    "        input_ids = encoded_input['input_ids'].squeeze()\n",
    "        attention_mask = encoded_input['attention_mask'].squeeze()\n",
    "        return input_ids, attention_mask, label\n",
    " \n",
    "# 标签编码\n",
    "label_encoder = LabelEncoder()\n",
    "encoded_labels = label_encoder.fit_transform(labels)\n",
    "\n",
    "# 创建数据集和数据加载器\n",
    "dataset = TextDataset(texts, encoded_labels, tokenizer)\n",
    "dataloader = DataLoader(dataset, batch_size=2, shuffle=True)\n",
    "\n",
    "# 定义优化器\n",
    "optimizer = AdamW(model.parameters(), lr=2e-5)\n",
    "\n",
    "# 训练模型\n",
    "model.train()\n",
    "for epoch in range(6):  # 训练6个epoch\n",
    "    total_loss = 0\n",
    "    for batch in dataloader:\n",
    "        input_ids, attention_mask, labels_batch = batch\n",
    "        labels_batch = labels_batch.to(torch.long)  # 将标签转换为长整型\n",
    "        optimizer.zero_grad()\n",
    "        outputs = model(input_ids=input_ids, attention_mask=attention_mask, labels=labels_batch)\n",
    "        loss = outputs.loss\n",
    "        total_loss += loss.item()\n",
    "        loss.backward()\n",
    "        optimizer.step()\n",
    "    print(f\"Epoch {epoch + 1}, Loss: {total_loss / len(dataloader)}\")\n",
    "\n",
    "\n",
    "# 测试模型\n",
    "model.eval()\n",
    "preds = []\n",
    "true_labels = []\n",
    "with torch.no_grad():\n",
    "    for batch in dataloader:\n",
    "        input_ids, attention_mask, labels_batch = batch\n",
    "        outputs = model(input_ids=input_ids, attention_mask=attention_mask)\n",
    "        logits = outputs.logits\n",
    "        preds.extend(torch.argmax(logits, dim=1).tolist())\n",
    "        true_labels.extend(labels_batch.tolist())\n",
    "\n",
    "# 打印分类报告\n",
    "print(classification_report(true_labels, preds, target_names=label_encoder.classes_))"
   ],
   "id": "9b26bc81aefc93b8",
   "outputs": [
    {
     "name": "stdout",
     "output_type": "stream",
     "text": [
      "Epoch 1, Loss: 1.447771966457367\n",
      "Epoch 2, Loss: 1.3757325410842896\n",
      "Epoch 3, Loss: 1.146630346775055\n",
      "Epoch 4, Loss: 1.1591147780418396\n",
      "Epoch 5, Loss: 0.9996614456176758\n",
      "Epoch 6, Loss: 0.8636733889579773\n",
      "              precision    recall  f1-score   support\n",
      "\n",
      "        High       1.00      1.00      1.00         1\n",
      "         Low       1.00      1.00      1.00         1\n",
      "      Medium       1.00      1.00      1.00         1\n",
      "  Negligible       1.00      1.00      1.00         1\n",
      "\n",
      "    accuracy                           1.00         4\n",
      "   macro avg       1.00      1.00      1.00         4\n",
      "weighted avg       1.00      1.00      1.00         4\n",
      "\n"
     ]
    }
   ],
   "execution_count": 10
  },
  {
   "metadata": {
    "ExecuteTime": {
     "end_time": "2024-07-08T16:47:19.630473Z",
     "start_time": "2024-07-08T16:47:19.084113Z"
    }
   },
   "cell_type": "code",
   "source": [
    "save_directory = './saved_model_v1'\n",
    "\n",
    "if not os.path.exists(save_directory):\n",
    "    os.makedirs(save_directory)\n",
    "    \n",
    "model.save_pretrained(save_directory)\n",
    "tokenizer.save_pretrained(save_directory)"
   ],
   "id": "fdd3e32a7782660f",
   "outputs": [
    {
     "data": {
      "text/plain": [
       "('./saved_model_v1/tokenizer_config.json',\n",
       " './saved_model_v1/special_tokens_map.json',\n",
       " './saved_model_v1/vocab.json',\n",
       " './saved_model_v1/merges.txt',\n",
       " './saved_model_v1/added_tokens.json')"
      ]
     },
     "execution_count": 11,
     "metadata": {},
     "output_type": "execute_result"
    }
   ],
   "execution_count": 11
  },
  {
   "metadata": {
    "ExecuteTime": {
     "end_time": "2024-07-08T21:44:54.397935Z",
     "start_time": "2024-07-08T21:44:27.484266Z"
    }
   },
   "cell_type": "code",
   "source": [
    "# 加载模型和分词器\n",
    "save_directory = './saved_model_v1'\n",
    "loaded_tokenizer = LongformerTokenizer.from_pretrained(save_directory)\n",
    "loaded_model = LongformerForSequenceClassification.from_pretrained(save_directory)\n",
    "\n",
    "def predict(texts):\n",
    "    inputs = loaded_tokenizer(texts, return_tensors='pt', truncation=True, padding='max_length', max_length=4096)\n",
    "    outputs = loaded_model(**inputs)\n",
    "    predictions = outputs.logits.argmax(dim=-1)\n",
    "    predicted_labels = label_encoder.inverse_transform(predictions.numpy())\n",
    "    return predicted_labels\n",
    "\n",
    "# 预测示例\n",
    "with open('experiment/OVV.txt', 'r', encoding='utf-8') as file:\n",
    "    new_texts = [file.read()]  # 包装成列表\n",
    "\n",
    "predictions = predict(new_texts)\n",
    "print(predictions)"
   ],
   "id": "c884a7ac2abe07fc",
   "outputs": [
    {
     "name": "stdout",
     "output_type": "stream",
     "text": [
      "['High']\n"
     ]
    }
   ],
   "execution_count": 17
  }
 ],
 "metadata": {
  "kernelspec": {
   "display_name": "Python 3",
   "language": "python",
   "name": "python3"
  },
  "language_info": {
   "codemirror_mode": {
    "name": "ipython",
    "version": 2
   },
   "file_extension": ".py",
   "mimetype": "text/x-python",
   "name": "python",
   "nbconvert_exporter": "python",
   "pygments_lexer": "ipython2",
   "version": "2.7.6"
  }
 },
 "nbformat": 4,
 "nbformat_minor": 5
}
